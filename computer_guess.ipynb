{
 "cells": [
  {
   "cell_type": "markdown",
   "id": "d4c6d855",
   "metadata": {},
   "source": [
    "# Computer Guess Number"
   ]
  },
  {
   "cell_type": "code",
   "execution_count": 19,
   "id": "a560e34d",
   "metadata": {},
   "outputs": [],
   "source": [
    "import random\n",
    "\n",
    "def computer_guess():\n",
    "    \n",
    "    ran = int(input(\"What range you going to choose a number: \"))\n",
    "    low = 1\n",
    "    high = ran\n",
    "    print(f\"okay! choose a number between 1 and {ran}\")\n",
    "    \n",
    "    user_input = ''\n",
    "    \n",
    "    while user_input != 'C':\n",
    "        \n",
    "        num = random.randint(low,high)\n",
    "        user_input = input(f\"is {num} is high(H) or {num} is low(L) or {num} is correct(C) ???\").capitalize()\n",
    "        \n",
    "        if user_input == 'H': \n",
    "            high = num-1\n",
    "        elif user_input == 'L':\n",
    "            low = num+1\n",
    "        elif user_input == 'C':\n",
    "            print(\"Computer guesses the correct answer!\")\n",
    "            "
   ]
  },
  {
   "cell_type": "code",
   "execution_count": 20,
   "id": "92af4a1d",
   "metadata": {},
   "outputs": [
    {
     "name": "stdout",
     "output_type": "stream",
     "text": [
      "What range you going to choose a number: 10\n",
      "okay! choose a number between 1 and 10\n",
      "is 4 is high(H) or 4 is low(L) or 4 is correct(C) ???l\n",
      "is 8 is high(H) or 8 is low(L) or 8 is correct(C) ???h\n",
      "is 7 is high(H) or 7 is low(L) or 7 is correct(C) ???c\n",
      "Computer guesses the correct answer!\n"
     ]
    }
   ],
   "source": [
    "computer_guess()"
   ]
  },
  {
   "cell_type": "code",
   "execution_count": null,
   "id": "f51e2ae5",
   "metadata": {},
   "outputs": [],
   "source": []
  }
 ],
 "metadata": {
  "kernelspec": {
   "display_name": "Python 3 (ipykernel)",
   "language": "python",
   "name": "python3"
  },
  "language_info": {
   "codemirror_mode": {
    "name": "ipython",
    "version": 3
   },
   "file_extension": ".py",
   "mimetype": "text/x-python",
   "name": "python",
   "nbconvert_exporter": "python",
   "pygments_lexer": "ipython3",
   "version": "3.11.5"
  }
 },
 "nbformat": 4,
 "nbformat_minor": 5
}
