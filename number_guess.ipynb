{
 "cells": [
  {
   "cell_type": "markdown",
   "id": "96cbc57e",
   "metadata": {},
   "source": [
    "# User Number Guess"
   ]
  },
  {
   "cell_type": "code",
   "execution_count": 6,
   "id": "9595ad5c",
   "metadata": {},
   "outputs": [],
   "source": [
    "import random\n",
    "\n",
    "def guess():\n",
    "    \n",
    "    ran = int(input(\"Choose a number range: \"))\n",
    "    num = random.randint(1,ran)\n",
    "    print(f\"The number is between 1 and {ran}\")\n",
    "    \n",
    "    count = 0\n",
    "    \n",
    "    while True:\n",
    "        \n",
    "        user_guess = int(input(\"enter the number: \"))\n",
    "        \n",
    "        if user_guess == num:\n",
    "            print(\"Congrants! correct guess😍\")\n",
    "            count += 1\n",
    "            break\n",
    "        elif user_guess < num:\n",
    "            print(\"Your guess is too low😐\")\n",
    "            count += 1\n",
    "        else:\n",
    "            print(\"Your guess is too high😝\")\n",
    "            count += 1\n",
    "            \n",
    "    return f\"You have guessed the number in {count} times💝\""
   ]
  },
  {
   "cell_type": "code",
   "execution_count": 7,
   "id": "e4657bd3",
   "metadata": {},
   "outputs": [
    {
     "name": "stdout",
     "output_type": "stream",
     "text": [
      "Choose a number range: 50\n",
      "The number is between 1 and 50\n",
      "enter the number: 25\n",
      "Your guess is too high😝\n",
      "enter the number: 10\n",
      "Your guess is too low😐\n",
      "enter the number: 15\n",
      "Congrants! correct guess😍\n"
     ]
    },
    {
     "data": {
      "text/plain": [
       "'You have guessed the number in 3 times💝'"
      ]
     },
     "execution_count": 7,
     "metadata": {},
     "output_type": "execute_result"
    }
   ],
   "source": [
    "guess()"
   ]
  },
  {
   "cell_type": "code",
   "execution_count": null,
   "id": "7fc1c22d",
   "metadata": {},
   "outputs": [],
   "source": []
  }
 ],
 "metadata": {
  "kernelspec": {
   "display_name": "Python 3 (ipykernel)",
   "language": "python",
   "name": "python3"
  },
  "language_info": {
   "codemirror_mode": {
    "name": "ipython",
    "version": 3
   },
   "file_extension": ".py",
   "mimetype": "text/x-python",
   "name": "python",
   "nbconvert_exporter": "python",
   "pygments_lexer": "ipython3",
   "version": "3.11.5"
  }
 },
 "nbformat": 4,
 "nbformat_minor": 5
}
